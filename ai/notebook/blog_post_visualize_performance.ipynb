{
 "cells": [
  {
   "cell_type": "code",
   "execution_count": 58,
   "metadata": {},
   "outputs": [],
   "source": [
    "import os\n",
    "import json\n",
    "import matplotlib.pyplot as plt\n",
    "import matplotlib.image as mpimg\n",
    "from urllib.parse import urljoin\n",
    "import numpy as np\n",
    "from os.path import dirname\n",
    "from jinja2 import Template\n",
    "import itertools\n",
    "from collections import defaultdict\n",
    "import random\n",
    "from IPython.display import Image, display, HTML\n",
    "from ipywidgets import interact, interactive, fixed, interact_manual, widgets\n",
    "\n",
    "%matplotlib inline"
   ]
  },
  {
   "cell_type": "code",
   "execution_count": 59,
   "metadata": {},
   "outputs": [],
   "source": [
    "def load_json(in_file_path):\n",
    "    with open(in_file_path) as f:\n",
    "        data = json.load(f)\n",
    "        return data"
   ]
  },
  {
   "cell_type": "code",
   "execution_count": 60,
   "metadata": {},
   "outputs": [],
   "source": [
    "PREDICTION_TYPE_TRUE_NEGATIVE = \"true_negative\"\n",
    "PREDICTION_TYPE_TRUE_POSITIVE = \"true_positive\"\n",
    "PREDICTION_TYPE_FALSE_NEGATIVE = \"false_negative\"\n",
    "PREDICTION_TYPE_FALSE_POSITIVE = \"false_positive\"\n",
    "\n",
    "BUCKET_TYPE_TOP = \"top\"\n",
    "BUCKET_TYPE_MID = \"mid\"\n",
    "BUCKET_TYPE_BOTTOM = \"bottom\"\n",
    "\n",
    "BUCKET_TYPE_TOP_VALUE = 0.66\n",
    "BUCKET_TYPE_MID_VALUE = 0.33\n",
    "BUCKET_TYPE_BOTTOM_VALUE = 0.0\n",
    "\n",
    "PREDICTION_TYPES = [PREDICTION_TYPE_TRUE_NEGATIVE, PREDICTION_TYPE_TRUE_POSITIVE, PREDICTION_TYPE_FALSE_NEGATIVE, PREDICTION_TYPE_FALSE_POSITIVE]\n",
    "BUCKET_TYPES = [BUCKET_TYPE_TOP, BUCKET_TYPE_MID, BUCKET_TYPE_BOTTOM]"
   ]
  },
  {
   "cell_type": "code",
   "execution_count": 79,
   "metadata": {},
   "outputs": [],
   "source": [
    "class ClassPredictions:\n",
    "    \n",
    "    def __init__(self, class_name, class_ix):\n",
    "        self.class_name = class_name\n",
    "        self.class_ix = class_ix\n",
    "        self.predictions_by_type = defaultdict(list)\n",
    "    \n",
    "    def add_prediction(self, prediction):\n",
    "        predicted_class_ix = prediction[\"yi_pred_ix\"]\n",
    "        yi_true = prediction[\"yi_true\"]\n",
    "        \n",
    "        true_class_ix = np.argmax(yi_true)\n",
    "        \n",
    "        if (self.class_ix == predicted_class_ix) and (predicted_class_ix == true_class_ix):\n",
    "            prediction_type = PREDICTION_TYPE_TRUE_POSITIVE\n",
    "            \n",
    "        elif (self.class_ix == predicted_class_ix) and (predicted_class_ix != true_class_ix):\n",
    "            prediction_type = PREDICTION_TYPE_FALSE_POSITIVE\n",
    "            \n",
    "        elif (self.class_ix != predicted_class_ix) and (self.class_ix != true_class_ix):\n",
    "            prediction_type = PREDICTION_TYPE_TRUE_NEGATIVE\n",
    "        \n",
    "        elif (self.class_ix != predicted_class_ix) and (self.class_ix == true_class_ix):\n",
    "            prediction_type = PREDICTION_TYPE_FALSE_NEGATIVE\n",
    "        \n",
    "        prediction[\"prediction_type\"] = prediction_type\n",
    "        self.predictions_by_type[prediction_type].append(prediction)\n",
    "        \n",
    "    def get_predictions_by_type(self, prediction_type, bucket_type):\n",
    "        predictions = self.predictions_by_type[prediction_type]\n",
    "        \n",
    "        if bucket_type == BUCKET_TYPE_TOP:\n",
    "            predictions = [prediction for prediction in predictions if max(prediction[\"yi_proba\"]) >= BUCKET_TYPE_TOP_VALUE]\n",
    "        elif bucket_type == BUCKET_TYPE_MID:\n",
    "            predictions = [prediction for prediction in predictions if max(prediction[\"yi_proba\"]) >= BUCKET_TYPE_MID_VALUE and max(prediction[\"yi_proba\"]) <= BUCKET_TYPE_TOP_VALUE]\n",
    "        else:\n",
    "            predictions = [prediction for prediction in predictions if max(prediction[\"yi_proba\"]) <= BUCKET_TYPE_BOTTOM_VALUE]\n",
    "        \n",
    "        return predictions\n",
    "        "
   ]
  },
  {
   "cell_type": "code",
   "execution_count": 95,
   "metadata": {},
   "outputs": [],
   "source": [
    "def get_bucketed_predictions(predictions, class_map):\n",
    "    class_predictions = dict()\n",
    "    \n",
    "    for class_name, class_ix in class_map.items():\n",
    "        class_predictions[class_name] = ClassPredictions(class_name, class_ix)\n",
    "    \n",
    "    for prediction in predictions:\n",
    "        for class_name in class_map.keys():\n",
    "            class_predictions[class_name].add_prediction(prediction)\n",
    "    \n",
    "    return class_predictions\n",
    "        "
   ]
  },
  {
   "cell_type": "code",
   "execution_count": 63,
   "metadata": {},
   "outputs": [],
   "source": [
    "def load_jsonl(in_file_path):\n",
    "    with open(in_file_path) as f:\n",
    "        data = map(json.loads, f)\n",
    "        for datum in data:\n",
    "            yield datum"
   ]
  },
  {
   "cell_type": "code",
   "execution_count": 96,
   "metadata": {},
   "outputs": [],
   "source": [
    "def plot_prediction_distributions(class_evaluation_data, class_name):\n",
    "    plt.rcParams[\"figure.figsize\"] = (20,5)\n",
    "    plt.hist(class_evaluation_data['y_proba'], alpha=0.7)\n",
    "    title = '%s | Prediction Distribution' % (class_name)\n",
    "    plt.title(title)\n",
    "    plt.xlabel('y_proba')\n",
    "    plt.ylabel('count')\n",
    "    plt.show()"
   ]
  },
  {
   "cell_type": "code",
   "execution_count": 65,
   "metadata": {},
   "outputs": [],
   "source": [
    "def load_template(tpl_name):\n",
    "    with open(tpl_name) as f:\n",
    "        return Template(f.read())"
   ]
  },
  {
   "cell_type": "code",
   "execution_count": 77,
   "metadata": {},
   "outputs": [],
   "source": [
    "def render_template(template, sample):\n",
    "    x = sample[\"xi\"]\n",
    "    guid = sample.get(\"guid\", os.path.basename(x))\n",
    "    prediction = max(sample[\"yi_proba\"])\n",
    "    \n",
    "    if is_image_path(x):\n",
    "        image_path = os.path.join(\"images\", os.path.basename(x))\n",
    "        text = None\n",
    "    else:\n",
    "        image_path = None\n",
    "        text = x\n",
    "    \n",
    "    html = template.render(dict(sample=dict(guid=guid, prediction=prediction, image_url=image_path, text=text)))\n",
    "    return html"
   ]
  },
  {
   "cell_type": "code",
   "execution_count": 67,
   "metadata": {},
   "outputs": [],
   "source": [
    "def is_image_path(data):\n",
    "    return True"
   ]
  },
  {
   "cell_type": "code",
   "execution_count": 87,
   "metadata": {},
   "outputs": [],
   "source": [
    "evaluation_data_fp =\"/Users/jnewman/Projects/learning/complete-ai/ai/blog_post_visualize_performance/training_runs/mnist_keras_cnn_embedding_experiment/1551584828.1162791/mnist_keras_cnn_embedding_experiment_evaluation_data_path.json\"\n",
    "prediction_fp = \"/Users/jnewman/Projects/learning/complete-ai/ai/blog_post_visualize_performance/training_runs/mnist_keras_cnn_embedding_experiment/1551584828.1162791/mnist_keras_cnn_embedding_experiment_test_data_predictions.jsonl\"\n",
    "class_map_fp = \"/Users/jnewman/Projects/learning/complete-ai/ai/blog_post_visualize_performance/training_runs/mnist_keras_cnn_embedding_experiment/1551584828.1162791/mnist_keras_cnn_embedding_experiment_class_map.json\""
   ]
  },
  {
   "cell_type": "code",
   "execution_count": 89,
   "metadata": {},
   "outputs": [],
   "source": [
    "predictions = list(load_jsonl(prediction_fp))\n",
    "class_map = load_json(class_map_fp)\n",
    "evaluation_data = load_json(evaluation_data_fp)\n",
    "inverted_class_map = {ix: class_name for class_name, ix in class_map.items()}\n",
    "CLASSES = list(class_map.keys())\n",
    "template = load_template(\"sample_template.html\")"
   ]
  },
  {
   "cell_type": "code",
   "execution_count": 82,
   "metadata": {},
   "outputs": [],
   "source": [
    "class_predictions_dict = get_bucketed_predictions(predictions, class_map)"
   ]
  },
  {
   "cell_type": "code",
   "execution_count": 83,
   "metadata": {},
   "outputs": [],
   "source": [
    "sample_slider_widget = widgets.IntSlider(min=0,max=100,step=1,value=0)"
   ]
  },
  {
   "cell_type": "code",
   "execution_count": 84,
   "metadata": {},
   "outputs": [],
   "source": [
    "def plot_interactive_predictions(class_name, ix, prediction_type, bucket_type):\n",
    "    print(prediction_type, bucket_type)\n",
    "    class_predictions = class_predictions_dict[class_name]\n",
    "    predictions = class_predictions.get_predictions_by_type(prediction_type=prediction_type, bucket_type=bucket_type)\n",
    "    num_samples = len(predictions)\n",
    "    \n",
    "    if ix >= num_samples:\n",
    "        ix = num_samples - 1\n",
    "    \n",
    "    sample = predictions[ix]\n",
    "\n",
    "    html = render_template(template, sample=sample)\n",
    "    display(HTML(html))"
   ]
  },
  {
   "cell_type": "code",
   "execution_count": 97,
   "metadata": {},
   "outputs": [
    {
     "name": "stdout",
     "output_type": "stream",
     "text": [
      "dict_keys(['coin_toss_data', 'category_metrics', 'confusion_matrix'])\n"
     ]
    },
    {
     "data": {
      "image/png": "[encoded data removed]",
      "text/plain": [
       "<Figure size 1440x360 with 1 Axes>"
      ]
     },
     "metadata": {
      "needs_background": "light"
     },
     "output_type": "display_data"
    }
   ],
   "source": [
    "print(evaluation_data.keys())\n",
    "plot_prediction_distributions(evaluation_data[\"category_metrics\"][\"0\"], \"0\")"
   ]
  },
  {
   "cell_type": "code",
   "execution_count": 85,
   "metadata": {},
   "outputs": [
    {
     "data": {
      "application/vnd.jupyter.widget-view+json": {
       "model_id": "ed20520bec864c12b6036fac718425aa",
       "version_major": 2,
       "version_minor": 0
      },
      "text/plain": [
       "interactive(children=(Dropdown(description='class_name', options=('0', '1', '2', '3', '4', '5', '6', '7', '8',…"
      ]
     },
     "metadata": {},
     "output_type": "display_data"
    },
    {
     "data": {
      "text/plain": [
       "<function __main__.plot_interactive_predictions(class_name, ix, prediction_type, bucket_type)>"
      ]
     },
     "execution_count": 85,
     "metadata": {},
     "output_type": "execute_result"
    }
   ],
   "source": [
    "interact(plot_interactive_predictions, class_name=CLASSES, bucket_type=BUCKET_TYPES, prediction_type=PREDICTION_TYPES, ix=sample_slider_widget)"
   ]
  }
 ],
 "metadata": {
  "kernelspec": {
   "display_name": "Python 3",
   "language": "python",
   "name": "python3"
  },
  "language_info": {
   "codemirror_mode": {
    "name": "ipython",
    "version": 3
   },
   "file_extension": ".py",
   "mimetype": "text/x-python",
   "name": "python",
   "nbconvert_exporter": "python",
   "pygments_lexer": "ipython3",
   "version": "3.6.5"
  }
 },
 "nbformat": 4,
 "nbformat_minor": 2
}
